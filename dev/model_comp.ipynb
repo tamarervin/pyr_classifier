{
 "cells": [
  {
   "cell_type": "markdown",
   "metadata": {
    "collapsed": true,
    "pycharm": {
     "name": "#%% md\n"
    }
   },
   "source": [
    "# Looking at the pvlib model for comparison with pyrheliometer data"
   ]
  },
  {
   "cell_type": "code",
   "execution_count": null,
   "outputs": [],
   "source": [
    "import os\n",
    "import numpy as np\n",
    "import matplotlib.pyplot as plt\n",
    "import source.pyr_funcs as pf\n"
   ],
   "metadata": {
    "collapsed": false,
    "pycharm": {
     "name": "#%%\n",
     "is_executing": true
    }
   }
  },
  {
   "cell_type": "code",
   "execution_count": null,
   "outputs": [],
   "source": [
    "# get the files\n",
    "dir_path = \"/Users/tervin/pyr_classifier/pyr_data\"\n",
    "files = os.listdir(dir_path)\n",
    "files = sorted(files)\n",
    "files = [files[x] for x in np.arange(0, len(files), 6)]\n",
    "\n",
    "# parse files\n",
    "days, full_flux, noon_flux = pf.parse_files(files, dir_path)"
   ],
   "metadata": {
    "collapsed": false,
    "pycharm": {
     "name": "#%%\n"
    }
   }
  },
  {
   "cell_type": "code",
   "execution_count": null,
   "outputs": [],
   "source": [
    "print(len(full_flux))\n",
    "print(len(full_flux[0]))\n"
   ],
   "metadata": {
    "collapsed": false,
    "pycharm": {
     "name": "#%%\n"
    }
   }
  },
  {
   "cell_type": "markdown",
   "source": [
    "## Build model for ideal days"
   ],
   "metadata": {
    "collapsed": false
   }
  },
  {
   "cell_type": "code",
   "execution_count": null,
   "outputs": [],
   "source": [
    "# default location parameters - NEID spectrometer (Kitt Peak, Tuscon AZ)\n",
    "lat = 32.2\n",
    "lon = -111\n",
    "tz = 'US/Arizona'\n",
    "elevation=735\n",
    "name='Tucson'\n",
    "\n",
    "# create TSI model\n",
    "full_model, noon_model = pf.tsi_model(days, full_flux, lat, lon, tz, elevation, name)"
   ],
   "metadata": {
    "collapsed": false,
    "pycharm": {
     "name": "#%%\n"
    }
   }
  },
  {
   "cell_type": "markdown",
   "source": [
    "## Calculate statisical parameters for flux data"
   ],
   "metadata": {
    "collapsed": false
   }
  },
  {
   "cell_type": "code",
   "execution_count": null,
   "outputs": [],
   "source": [
    "days, stat_params = pf.stat_parameters(days, full_flux, noon_flux, full_model)"
   ],
   "metadata": {
    "collapsed": false,
    "pycharm": {
     "name": "#%%\n"
    }
   }
  },
  {
   "cell_type": "markdown",
   "source": [
    "# Cluster this"
   ],
   "metadata": {
    "collapsed": false,
    "pycharm": {
     "name": "#%% md\n"
    }
   }
  },
  {
   "cell_type": "code",
   "execution_count": 8,
   "outputs": [],
   "source": [
    "from sklearn.cluster import KMeans\n"
   ],
   "metadata": {
    "collapsed": false,
    "pycharm": {
     "name": "#%%\n"
    }
   }
  },
  {
   "cell_type": "code",
   "execution_count": 10,
   "outputs": [
    {
     "name": "stdout",
     "output_type": "stream",
     "text": [
      "[]\n"
     ]
    }
   ],
   "source": [],
   "metadata": {
    "collapsed": false,
    "pycharm": {
     "name": "#%%\n"
    }
   }
  },
  {
   "cell_type": "markdown",
   "source": [
    "## Use elbow method to determine best number of clusters"
   ],
   "metadata": {
    "collapsed": false,
    "pycharm": {
     "name": "#%% md\n"
    }
   }
  },
  {
   "cell_type": "code",
   "execution_count": 9,
   "outputs": [
    {
     "ename": "ValueError",
     "evalue": "Found array with 0 sample(s) (shape=(0, 2)) while a minimum of 1 is required.",
     "output_type": "error",
     "traceback": [
      "\u001B[0;31m---------------------------------------------------------------------------\u001B[0m",
      "\u001B[0;31mValueError\u001B[0m                                Traceback (most recent call last)",
      "\u001B[0;32m/var/folders/m6/s52srt9x0wz_3qq1qwc6yfz40000gq/T/ipykernel_81640/4093208084.py\u001B[0m in \u001B[0;36m<module>\u001B[0;34m\u001B[0m\n\u001B[1;32m      3\u001B[0m \u001B[0;32mfor\u001B[0m \u001B[0mk\u001B[0m \u001B[0;32min\u001B[0m \u001B[0mK\u001B[0m\u001B[0;34m:\u001B[0m\u001B[0;34m\u001B[0m\u001B[0;34m\u001B[0m\u001B[0m\n\u001B[1;32m      4\u001B[0m     \u001B[0mk_means\u001B[0m \u001B[0;34m=\u001B[0m \u001B[0mKMeans\u001B[0m\u001B[0;34m(\u001B[0m\u001B[0mn_clusters\u001B[0m\u001B[0;34m=\u001B[0m\u001B[0mk\u001B[0m\u001B[0;34m)\u001B[0m\u001B[0;34m\u001B[0m\u001B[0;34m\u001B[0m\u001B[0m\n\u001B[0;32m----> 5\u001B[0;31m     \u001B[0mmodel\u001B[0m \u001B[0;34m=\u001B[0m \u001B[0mk_means\u001B[0m\u001B[0;34m.\u001B[0m\u001B[0mfit\u001B[0m\u001B[0;34m(\u001B[0m\u001B[0mX\u001B[0m\u001B[0;34m)\u001B[0m\u001B[0;34m\u001B[0m\u001B[0;34m\u001B[0m\u001B[0m\n\u001B[0m\u001B[1;32m      6\u001B[0m     \u001B[0msum_of_squared_distances\u001B[0m\u001B[0;34m.\u001B[0m\u001B[0mappend\u001B[0m\u001B[0;34m(\u001B[0m\u001B[0mk_means\u001B[0m\u001B[0;34m.\u001B[0m\u001B[0minertia_\u001B[0m\u001B[0;34m)\u001B[0m\u001B[0;34m\u001B[0m\u001B[0;34m\u001B[0m\u001B[0m\n\u001B[1;32m      7\u001B[0m \u001B[0;34m\u001B[0m\u001B[0m\n",
      "\u001B[0;32m~/opt/anaconda3/envs/pyr_classifier/lib/python3.7/site-packages/sklearn/cluster/_kmeans.py\u001B[0m in \u001B[0;36mfit\u001B[0;34m(self, X, y, sample_weight)\u001B[0m\n\u001B[1;32m   1144\u001B[0m             \u001B[0morder\u001B[0m\u001B[0;34m=\u001B[0m\u001B[0;34m\"C\"\u001B[0m\u001B[0;34m,\u001B[0m\u001B[0;34m\u001B[0m\u001B[0;34m\u001B[0m\u001B[0m\n\u001B[1;32m   1145\u001B[0m             \u001B[0mcopy\u001B[0m\u001B[0;34m=\u001B[0m\u001B[0mself\u001B[0m\u001B[0;34m.\u001B[0m\u001B[0mcopy_x\u001B[0m\u001B[0;34m,\u001B[0m\u001B[0;34m\u001B[0m\u001B[0;34m\u001B[0m\u001B[0m\n\u001B[0;32m-> 1146\u001B[0;31m             \u001B[0maccept_large_sparse\u001B[0m\u001B[0;34m=\u001B[0m\u001B[0;32mFalse\u001B[0m\u001B[0;34m,\u001B[0m\u001B[0;34m\u001B[0m\u001B[0;34m\u001B[0m\u001B[0m\n\u001B[0m\u001B[1;32m   1147\u001B[0m         )\n\u001B[1;32m   1148\u001B[0m \u001B[0;34m\u001B[0m\u001B[0m\n",
      "\u001B[0;32m~/opt/anaconda3/envs/pyr_classifier/lib/python3.7/site-packages/sklearn/base.py\u001B[0m in \u001B[0;36m_validate_data\u001B[0;34m(self, X, y, reset, validate_separately, **check_params)\u001B[0m\n\u001B[1;32m    559\u001B[0m             \u001B[0;32mraise\u001B[0m \u001B[0mValueError\u001B[0m\u001B[0;34m(\u001B[0m\u001B[0;34m\"Validation should be done on X, y or both.\"\u001B[0m\u001B[0;34m)\u001B[0m\u001B[0;34m\u001B[0m\u001B[0;34m\u001B[0m\u001B[0m\n\u001B[1;32m    560\u001B[0m         \u001B[0;32melif\u001B[0m \u001B[0;32mnot\u001B[0m \u001B[0mno_val_X\u001B[0m \u001B[0;32mand\u001B[0m \u001B[0mno_val_y\u001B[0m\u001B[0;34m:\u001B[0m\u001B[0;34m\u001B[0m\u001B[0;34m\u001B[0m\u001B[0m\n\u001B[0;32m--> 561\u001B[0;31m             \u001B[0mX\u001B[0m \u001B[0;34m=\u001B[0m \u001B[0mcheck_array\u001B[0m\u001B[0;34m(\u001B[0m\u001B[0mX\u001B[0m\u001B[0;34m,\u001B[0m \u001B[0;34m**\u001B[0m\u001B[0mcheck_params\u001B[0m\u001B[0;34m)\u001B[0m\u001B[0;34m\u001B[0m\u001B[0;34m\u001B[0m\u001B[0m\n\u001B[0m\u001B[1;32m    562\u001B[0m             \u001B[0mout\u001B[0m \u001B[0;34m=\u001B[0m \u001B[0mX\u001B[0m\u001B[0;34m\u001B[0m\u001B[0;34m\u001B[0m\u001B[0m\n\u001B[1;32m    563\u001B[0m         \u001B[0;32melif\u001B[0m \u001B[0mno_val_X\u001B[0m \u001B[0;32mand\u001B[0m \u001B[0;32mnot\u001B[0m \u001B[0mno_val_y\u001B[0m\u001B[0;34m:\u001B[0m\u001B[0;34m\u001B[0m\u001B[0;34m\u001B[0m\u001B[0m\n",
      "\u001B[0;32m~/opt/anaconda3/envs/pyr_classifier/lib/python3.7/site-packages/sklearn/utils/validation.py\u001B[0m in \u001B[0;36mcheck_array\u001B[0;34m(array, accept_sparse, accept_large_sparse, dtype, order, copy, force_all_finite, ensure_2d, allow_nd, ensure_min_samples, ensure_min_features, estimator)\u001B[0m\n\u001B[1;32m    798\u001B[0m                 \u001B[0;34m\"Found array with %d sample(s) (shape=%s) while a\"\u001B[0m\u001B[0;34m\u001B[0m\u001B[0;34m\u001B[0m\u001B[0m\n\u001B[1;32m    799\u001B[0m                 \u001B[0;34m\" minimum of %d is required%s.\"\u001B[0m\u001B[0;34m\u001B[0m\u001B[0;34m\u001B[0m\u001B[0m\n\u001B[0;32m--> 800\u001B[0;31m                 \u001B[0;34m%\u001B[0m \u001B[0;34m(\u001B[0m\u001B[0mn_samples\u001B[0m\u001B[0;34m,\u001B[0m \u001B[0marray\u001B[0m\u001B[0;34m.\u001B[0m\u001B[0mshape\u001B[0m\u001B[0;34m,\u001B[0m \u001B[0mensure_min_samples\u001B[0m\u001B[0;34m,\u001B[0m \u001B[0mcontext\u001B[0m\u001B[0;34m)\u001B[0m\u001B[0;34m\u001B[0m\u001B[0;34m\u001B[0m\u001B[0m\n\u001B[0m\u001B[1;32m    801\u001B[0m             )\n\u001B[1;32m    802\u001B[0m \u001B[0;34m\u001B[0m\u001B[0m\n",
      "\u001B[0;31mValueError\u001B[0m: Found array with 0 sample(s) (shape=(0, 2)) while a minimum of 1 is required."
     ]
    }
   ],
   "source": [
    "sum_of_squared_distances = []\n",
    "K = range(1,15)\n",
    "for k in K:\n",
    "    k_means = KMeans(n_clusters=k)\n",
    "    model = k_means.fit(stat_params)\n",
    "    sum_of_squared_distances.append(k_means.inertia_)\n",
    "\n",
    "plt.plot(K, sum_of_squared_distances, 'bx-')\n",
    "plt.xlabel('Number of Clusters (k)')\n",
    "plt.ylabel('Variance')\n",
    "plt.title('Elbow method to determine optimal k value')\n",
    "plt.show()"
   ],
   "metadata": {
    "collapsed": false,
    "pycharm": {
     "name": "#%%\n"
    }
   }
  },
  {
   "cell_type": "code",
   "execution_count": 99,
   "outputs": [
    {
     "data": {
      "text/plain": "<matplotlib.collections.PathCollection at 0x7fe37fd50c50>"
     },
     "execution_count": 99,
     "metadata": {},
     "output_type": "execute_result"
    },
    {
     "data": {
      "text/plain": "<Figure size 432x288 with 1 Axes>",
      "image/png": "[encoded data removed]"
     },
     "metadata": {
      "needs_background": "light"
     },
     "output_type": "display_data"
    }
   ],
   "source": [
    "# X = scal_f_std.reshape(-1, 1)\n",
    "\n",
    "kmeans = KMeans(n_clusters=5, random_state=0).fit(stat_params)\n",
    "labels = kmeans.labels_\n",
    "\n",
    "good_labels = np.where(labels == 0)\n",
    "plt.scatter(np.array(days), np.array(labels))"
   ],
   "metadata": {
    "collapsed": false,
    "pycharm": {
     "name": "#%%\n"
    }
   }
  },
  {
   "cell_type": "code",
   "execution_count": 100,
   "outputs": [
    {
     "data": {
      "text/plain": "<matplotlib.legend.Legend at 0x7fe38081bc50>"
     },
     "execution_count": 100,
     "metadata": {},
     "output_type": "execute_result"
    },
    {
     "data": {
      "text/plain": "<Figure size 432x288 with 1 Axes>",
      "image/png": "[encoded data removed]"
     },
     "metadata": {
      "needs_background": "light"
     },
     "output_type": "display_data"
    }
   ],
   "source": [
    "zero = np.where(labels == 0)\n",
    "one = np.where(labels == 1)\n",
    "two = np.where(labels == 2)\n",
    "three = np.where(labels == 3)\n",
    "four = np.where(labels == 4)\n",
    "plt.scatter(x[zero], scal_f_std[zero], color='lightblue', edgecolors='k', linewidths=0.8, label='Label Zero')\n",
    "plt.scatter(x[one], scal_f_std[one], color='cornflowerblue', edgecolors='k', linewidths=0.8, label='Label One')\n",
    "plt.scatter(x[two], scal_f_std[two], color='slategrey', edgecolors='k', linewidths=0.8, label='Label Two')\n",
    "plt.scatter(x[three], scal_f_std[three], color='cyan', edgecolors='k', linewidths=0.8, label='Label Three')\n",
    "plt.scatter(x[four], scal_f_std[four], color='teal', edgecolors='k', linewidths=0.8, label='Label Four')\n",
    "\n",
    "plt.legend()"
   ],
   "metadata": {
    "collapsed": false,
    "pycharm": {
     "name": "#%%\n"
    }
   }
  },
  {
   "cell_type": "code",
   "execution_count": null,
   "outputs": [],
   "source": [
    "# use pickle to save and load model\n",
    "import pickle\n",
    "\n",
    "# save model\n",
    "pickle.dump(model, open(\"model.pkl\", \"wb\"))\n",
    "# load model\n",
    "model = pickle.load(open(\"model.pkl\", \"rb\"))"
   ],
   "metadata": {
    "collapsed": false,
    "pycharm": {
     "name": "#%%\n"
    }
   }
  },
  {
   "cell_type": "markdown",
   "source": [
    "# Compare model to my labeling"
   ],
   "metadata": {
    "collapsed": false,
    "pycharm": {
     "name": "#%% md\n"
    }
   }
  },
  {
   "cell_type": "code",
   "execution_count": 84,
   "outputs": [
    {
     "name": "stdout",
     "output_type": "stream",
     "text": [
      "Cluster: [ 2  4  7 12 14 15 16 18 19 23 24] \n",
      " By Eye: [ 2  4  7 12 14 15 23 24]\n"
     ]
    },
    {
     "data": {
      "text/plain": "<Figure size 432x288 with 1 Axes>",
      "image/png": "[encoded data removed]"
     },
     "metadata": {
      "needs_background": "light"
     },
     "output_type": "display_data"
    }
   ],
   "source": [
    "x = np.arange(0, len(d_std))\n",
    "good_labels = np.where(labels == 0)\n",
    "plt.scatter(x[good_labels], [2]*len(x[good_labels]), color='lightblue')\n",
    "plt.scatter(x[good_bool], [1]*len(x[good_bool]), color='lightpink')\n",
    "\n",
    "print('Cluster:', x[good_labels], \"\\n By Eye:\", x[good_bool])"
   ],
   "metadata": {
    "collapsed": false,
    "pycharm": {
     "name": "#%%\n"
    }
   }
  },
  {
   "cell_type": "code",
   "execution_count": 93,
   "outputs": [
    {
     "data": {
      "text/plain": "<Figure size 432x288 with 1 Axes>",
      "image/png": "[encoded data removed]"
     },
     "metadata": {
      "needs_background": "light"
     },
     "output_type": "display_data"
    },
    {
     "data": {
      "text/plain": "<Figure size 432x288 with 1 Axes>",
      "image/png": "[encoded data removed]"
     },
     "metadata": {
      "needs_background": "light"
     },
     "output_type": "display_data"
    },
    {
     "data": {
      "text/plain": "<Figure size 432x288 with 1 Axes>",
      "image/png": "[encoded data removed]"
     },
     "metadata": {
      "needs_background": "light"
     },
     "output_type": "display_data"
    }
   ],
   "source": [
    "diff = [16, 18, 19]\n",
    "for d in diff:\n",
    "    plt.figure(d)\n",
    "    x = np.arange(0, 86400)\n",
    "    plt.plot(x, good_flux[d], color='lightblue')\n",
    "    plt.plot(x, good_model[d]*1.08, color='orchid')\n",
    "    plt.ylabel(r'$\\rm Solar \\/\\rm Flux \\/\\rm [W m^{-1}]$')\n",
    "    plt.xlabel('Time (s): ' + str(d_std[d]))"
   ],
   "metadata": {
    "collapsed": false,
    "pycharm": {
     "name": "#%%\n"
    }
   }
  },
  {
   "cell_type": "code",
   "execution_count": 91,
   "outputs": [
    {
     "name": "stdout",
     "output_type": "stream",
     "text": [
      "86400\n"
     ]
    }
   ],
   "source": [
    "print(len(good_flux))"
   ],
   "metadata": {
    "collapsed": false,
    "pycharm": {
     "name": "#%%\n"
    }
   }
  },
  {
   "cell_type": "code",
   "execution_count": 51,
   "outputs": [
    {
     "data": {
      "text/plain": "<Figure size 432x288 with 1 Axes>",
      "image/png": "[encoded data removed]"
     },
     "metadata": {
      "needs_background": "light"
     },
     "output_type": "display_data"
    }
   ],
   "source": [
    "x = np.arange(0, 86400)\n",
    "plt.plot(x, date_flux[3], color='lightblue')\n",
    "plt.plot(x, date_model[3]*1.08, color='orchid')\n",
    "plt.ylabel(r'$\\rm Solar \\/\\rm Flux \\/\\rm [W m^{-1}]$')\n",
    "plt.xlabel('Time (s): ' + str(d_std[2]))\n",
    "plt.savefig('/Users/tervin/pyr_classifier/images/04_07_2021_scaled.png')"
   ],
   "metadata": {
    "collapsed": false,
    "pycharm": {
     "name": "#%%\n"
    }
   }
  },
  {
   "cell_type": "code",
   "execution_count": 41,
   "outputs": [
    {
     "data": {
      "text/plain": "Text(0.5, 0, 'Time (s): 2021-04-09')"
     },
     "execution_count": 41,
     "metadata": {},
     "output_type": "execute_result"
    },
    {
     "data": {
      "text/plain": "<Figure size 432x288 with 1 Axes>",
      "image/png": "[encoded data removed]"
     },
     "metadata": {
      "needs_background": "light"
     },
     "output_type": "display_data"
    }
   ],
   "source": [
    "x = np.arange(0, 86400)\n",
    "plt.plot(x, date_flux[5], color='lightblue')\n",
    "plt.plot(x, date_model[5]*1.08, color='orchid')\n",
    "plt.ylabel(r'$\\rm Solar \\/\\rm Flux \\/\\rm [W m^{-1}]$')\n",
    "plt.xlabel('Time (s): ' + str(d_std[4]))\n",
    "# plt.savefig('/Users/tervin/pyr_classifier/images/04_06_2021_scaled.png')\n"
   ],
   "metadata": {
    "collapsed": false,
    "pycharm": {
     "name": "#%%\n"
    }
   }
  },
  {
   "cell_type": "markdown",
   "source": [
    "# Development: Parsing and Model"
   ],
   "metadata": {
    "collapsed": false
   }
  },
  {
   "cell_type": "code",
   "execution_count": null,
   "outputs": [],
   "source": [
    "dates, flux, voltage = [], [], []\n",
    "for fl in files:\n",
    "    file = os.path.join(\"/Users/tervin/pyr_classifier/pyr_data\", fl)\n",
    "    d, f, v = pf.read_pyr(file)\n",
    "    dates.append(d)\n",
    "    flux.append(f)\n",
    "    voltage.append(v)"
   ],
   "metadata": {
    "collapsed": false,
    "pycharm": {
     "name": "#%%\n"
    }
   }
  },
  {
   "cell_type": "code",
   "execution_count": null,
   "outputs": [],
   "source": [
    "# we want this separate so we can get the data for days that are half in one file\n",
    "# and half in another\n",
    "# flatten the lists\n",
    "use_dates = [item for sublist in dates for item in sublist]\n",
    "use_flux = [item for sublist in flux for item in sublist]\n",
    "use_flux = np.array(use_flux)\n",
    "days, date_flux, sol_flux = pf.parse_dates(use_dates, use_flux)\n"
   ],
   "metadata": {
    "collapsed": false,
    "pycharm": {
     "name": "#%%\n"
    }
   }
  },
  {
   "cell_type": "code",
   "execution_count": null,
   "outputs": [],
   "source": [
    "# create the model for each of these days\n",
    "# add the models to a list\n",
    "# calculate residual of model for date flux and solar flux and plot over time\n",
    "\n",
    "\n",
    "#### for many days\n",
    "from pvlib import pvsystem, location, clearsky\n",
    "import pandas as pd\n",
    "\n",
    "# plot for comparison\n",
    "class DualAxisTrackerMount(pvsystem.AbstractMount):\n",
    "    def get_orientation(self, solar_zenith, solar_azimuth):\n",
    "        # no rotation limits, no backtracking\n",
    "        return {'surface_tilt': solar_zenith, 'surface_azimuth': solar_azimuth}\n",
    "\n",
    "lat = 32.2\n",
    "lon = -111\n",
    "loc = location.Location(lat, lon, 'US/Arizona', 700, 'Tucson')"
   ],
   "metadata": {
    "collapsed": false,
    "pycharm": {
     "name": "#%%\n"
    }
   }
  },
  {
   "cell_type": "code",
   "execution_count": null,
   "outputs": [],
   "source": [
    "date_model, sol_model = [], []\n",
    "\n",
    "for i, d in enumerate(days):\n",
    "    times = pd.date_range(start=d, end=d + timedelta(days=1), freq='1S', tz=loc.tz)\n",
    "    # get turbidity\n",
    "    turbidity = clearsky.lookup_linke_turbidity(times, lat, lon, interp_turbidity=False)\n",
    "    weather = loc.get_clearsky(times, linke_turbidity=turbidity)\n",
    "    times_list = []\n",
    "    for d in times:\n",
    "        times_list.append(d.time())\n",
    "    mod = weather.dni.values + np.min(full_flux[i])\n",
    "    times_comp = np.array(times_list)\n",
    "    t_use = np.logical_and(times_comp >= time(hour=9, minute=30), times_comp < time(hour=15, minute=30))\n",
    "    date_model.append(mod[:-1])\n",
    "    sol_model.append(mod[t_use])"
   ],
   "metadata": {
    "collapsed": false,
    "pycharm": {
     "name": "#%%\n"
    }
   }
  },
  {
   "cell_type": "markdown",
   "source": [
    "# Development: Statistical Parameters"
   ],
   "metadata": {
    "collapsed": false
   }
  },
  {
   "cell_type": "code",
   "execution_count": null,
   "outputs": [],
   "source": [
    "good_days = [date(year=2021, month=4, day=7),date(year=2021, month=4, day=12),date(year=2021, month=4, day=17),\n",
    "             date(year=2021, month=4, day=19),date(year=2021, month=4, day=20),date(year=2021, month=4, day=29),\n",
    "             date(year=2021, month=4, day=30), date(year=2021, month=4, day=9)]"
   ],
   "metadata": {
    "collapsed": false,
    "pycharm": {
     "name": "#%%\n"
    }
   }
  },
  {
   "cell_type": "code",
   "execution_count": null,
   "outputs": [],
   "source": [
    "# calculate the residual and standard deviation\n",
    "f_std, s_std, d_std = [], [], []\n",
    "for i, d in enumerate(days):\n",
    "    if len(date_flux[i]) == len(date_model[i]):\n",
    "        f_res = date_flux[i] - date_model[i]\n",
    "        s_res = sol_flux[i] - sol_model[i]\n",
    "        f_std.append(np.std(f_res))\n",
    "        s_std.append(np.std(s_res))\n",
    "        d_std.append(d)\n",
    "    else:\n",
    "        pass\n",
    "f_std = np.array(f_std)\n",
    "s_std = np.array(s_std)\n",
    "good_bool = np.isin(d_std, good_days)\n",
    "\n"
   ],
   "metadata": {
    "collapsed": false,
    "pycharm": {
     "name": "#%%\n"
    }
   }
  },
  {
   "cell_type": "code",
   "execution_count": null,
   "outputs": [],
   "source": [
    "# plotting this stuff\n",
    "x = np.arange(0, len(d_std))\n",
    "plt.scatter(x[good_bool], f_std[good_bool], color='lightblue', edgecolors='k', linewidths=0.8, label='Residual Std: Full Day - Good')\n",
    "plt.scatter(x[good_bool], s_std[good_bool], color='lightpink', edgecolors='k', linewidths=0.8, label='Residual Std: Solar Noon - Good')\n",
    "plt.scatter(x[~good_bool], f_std[~good_bool], color='cornflowerblue', edgecolors='k', linewidths=0.8, label='Residual Std: Full Day - Bad')\n",
    "plt.scatter(x[~good_bool], s_std[~good_bool], color='purple', edgecolors='k', linewidths=0.8, label='Residual Std: Solar Noon - Bad')\n",
    "\n",
    "plt.legend()\n",
    "plt.xlabel('Days since April 5')\n",
    "plt.title('Residual Standard Deviation')\n",
    "plt.ylabel(r'$\\rm Solar \\/\\rm Flux \\/\\rm [W m^{-1}]$')\n",
    "plt.savefig('/Users/tervin/pyr_classifier/images/residual_std.png')"
   ],
   "metadata": {
    "collapsed": false,
    "pycharm": {
     "name": "#%%\n"
    }
   }
  },
  {
   "cell_type": "code",
   "execution_count": null,
   "outputs": [],
   "source": [
    "# looking at division\n",
    "div, div_std = [], []\n",
    "for i, d in enumerate(days):\n",
    "    if len(date_flux[i]) == len(date_model[i]):\n",
    "        divn = date_flux[i] / date_model[i]\n",
    "        div.append(np.mean(divn))\n",
    "        div_std.append(np.std(divn))\n",
    "\n",
    "div = np.array(div)\n",
    "div_std = np.array(div_std)"
   ],
   "metadata": {
    "collapsed": false,
    "pycharm": {
     "name": "#%%\n"
    }
   }
  },
  {
   "cell_type": "code",
   "execution_count": null,
   "outputs": [],
   "source": [
    "x = np.arange(0, len(d_std))\n",
    "plt.scatter(x[good_bool], div[good_bool], color='lightblue', edgecolors='k', linewidths=0.8, label='Division Mean: Full Day - Good')\n",
    "plt.scatter(x[good_bool], div_std[good_bool], color='lightpink', edgecolors='k', linewidths=0.8, label='Division Std: Full Day - Good')\n",
    "plt.scatter(x[~good_bool], div[~good_bool], color='cornflowerblue', edgecolors='k', linewidths=0.8, label='Division Mean: Full Day - Bad')\n",
    "plt.scatter(x[~good_bool], div_std[~good_bool], color='thistle', edgecolors='k', linewidths=0.8, label='Division Std: Full Day - Bad')\n",
    "\n",
    "plt.legend()\n",
    "plt.xlabel('Days since April 5')\n",
    "plt.ylabel(r'$\\rm Solar \\/\\rm Flux \\/\\rm [W m^{-1}]$')\n",
    "plt.title('Average good factor: ' + str(np.mean(div[good_bool])))\n",
    "plt.savefig('/Users/tervin/pyr_classifier/images/division_std.png')\n"
   ],
   "metadata": {
    "collapsed": false,
    "pycharm": {
     "name": "#%%\n"
    }
   }
  },
  {
   "cell_type": "code",
   "execution_count": null,
   "outputs": [],
   "source": [
    "# get actual standard deviation of flux array\n",
    "full, noon, day_full = [], [], []\n",
    "for i, d in enumerate(days):\n",
    "    if len(date_flux[i]) == len(date_model[i]):\n",
    "        full.append(np.std(date_flux[i]))\n",
    "        noon.append(np.std(sol_flux[i]))\n",
    "        day_full.append(d)\n",
    "    else:\n",
    "        pass\n",
    "full = np.array(full)\n",
    "noon = np.array(noon)"
   ],
   "metadata": {
    "collapsed": false,
    "pycharm": {
     "name": "#%%\n"
    }
   }
  },
  {
   "cell_type": "code",
   "execution_count": null,
   "outputs": [],
   "source": [
    "# plotting this stuff\n",
    "x = np.arange(0, len(d_std))\n",
    "plt.scatter(x[good_bool], full[good_bool], color='lightblue', edgecolors='k', linewidths=0.8, label='Std: Full Day - Good')\n",
    "plt.scatter(x[good_bool], noon[good_bool], color='lightpink', edgecolors='k', linewidths=0.8, label='Std: Solar Noon - Good')\n",
    "plt.scatter(x[~good_bool], full[~good_bool], color='cornflowerblue', edgecolors='k', linewidths=0.8, label='Std: Full Day - Bad')\n",
    "plt.scatter(x[~good_bool], noon[~good_bool], color='purple', edgecolors='k', linewidths=0.8, label='Std: Solar Noon - Bad')\n",
    "\n",
    "plt.legend()\n",
    "plt.xlabel('Days since April 5')\n",
    "plt.ylabel(r'$\\rm Solar \\/\\rm Flux \\/\\rm [W m^{-1}]$')\n",
    "plt.savefig('/Users/tervin/pyr_classifier/images/std.png')\n"
   ],
   "metadata": {
    "collapsed": false,
    "pycharm": {
     "name": "#%%\n"
    }
   }
  },
  {
   "cell_type": "code",
   "execution_count": null,
   "outputs": [],
   "source": [
    "# scaled residual standard deviation\n",
    "scal_f_std, scal_s_std, d_std, good_flux, good_model = [], [], [], [], []\n",
    "for i, d in enumerate(days):\n",
    "    if len(date_flux[i]) == len(date_model[i]):\n",
    "        good_flux.append(date_flux[i])\n",
    "        good_model.append(date_model[i])\n",
    "        f_res = date_flux[i] - (date_model[i]*1.08)\n",
    "        s_res = sol_flux[i] - (sol_model[i]*1.08)\n",
    "        scal_f_std.append(np.std(f_res))\n",
    "        scal_s_std.append(np.std(s_res))\n",
    "        d_std.append(d)\n",
    "    else:\n",
    "        pass\n",
    "scal_f_std = np.array(scal_f_std)\n",
    "scal_s_std = np.array(scal_s_std)"
   ],
   "metadata": {
    "collapsed": false,
    "pycharm": {
     "name": "#%%\n"
    }
   }
  },
  {
   "cell_type": "code",
   "execution_count": null,
   "outputs": [],
   "source": [
    "# plotting this stuff\n",
    "x = np.arange(0, len(d_std))\n",
    "plt.scatter(x[good_bool], scal_f_std[good_bool], color='lightblue', edgecolors='k', linewidths=0.8, label='Residual Std: Full Day - Good')\n",
    "plt.scatter(x[good_bool], scal_s_std[good_bool], color='lightpink', edgecolors='k', linewidths=0.8, label='Residual Std: Solar Noon - Good')\n",
    "plt.scatter(x[~good_bool], scal_f_std[~good_bool], color='cornflowerblue', edgecolors='k', linewidths=0.8, label='Residual Std: Full Day - Bad')\n",
    "plt.scatter(x[~good_bool], scal_s_std[~good_bool], color='purple', edgecolors='k', linewidths=0.8, label='Residual Std: Solar Noon - Bad')\n",
    "\n",
    "plt.legend()\n",
    "plt.xlabel('Days since April 5')\n",
    "plt.ylabel(r'$\\rm Solar \\/\\rm Flux \\/\\rm [W m^{-1}]$')\n",
    "plt.title('Scaled Residual Standard Deviation')\n",
    "plt.savefig('/Users/tervin/pyr_classifier/images/scaled_residual_std.png')"
   ],
   "metadata": {
    "collapsed": false,
    "pycharm": {
     "name": "#%%\n"
    }
   }
  },
  {
   "cell_type": "code",
   "execution_count": null,
   "outputs": [],
   "source": [
    "print(\"Max of good days:\", np.max(scal_f_std[good_bool]))\n",
    "print(\"Min of bad days:\", np.min(scal_f_std[~good_bool]))\n",
    "print('Cutoff value at 50')"
   ],
   "metadata": {
    "collapsed": false,
    "pycharm": {
     "name": "#%%\n"
    }
   }
  },
  {
   "cell_type": "markdown",
   "source": [
    "# TESTING"
   ],
   "metadata": {
    "collapsed": false,
    "pycharm": {
     "name": "#%% md\n"
    }
   }
  },
  {
   "cell_type": "code",
   "execution_count": null,
   "outputs": [],
   "source": [
    "print(len(sol_model[4]))"
   ],
   "metadata": {
    "collapsed": false,
    "pycharm": {
     "name": "#%%\n"
    }
   }
  },
  {
   "cell_type": "code",
   "execution_count": null,
   "outputs": [],
   "source": [
    "np.where(times_comp == time(hour=15, minute=30))"
   ],
   "metadata": {
    "collapsed": false,
    "pycharm": {
     "name": "#%%\n"
    }
   }
  },
  {
   "cell_type": "code",
   "execution_count": null,
   "outputs": [],
   "source": [
    "\n",
    "dates_list = []\n",
    "times_list = []\n",
    "for d in use_dates:\n",
    "    dates_list.append(d.date())\n",
    "    times_list.append(d.time())\n",
    "\n",
    "unique_days = np.unique(dates_list)\n",
    "unique_days = sorted(unique_days)\n",
    "date_flux = []\n",
    "sol_flux = []\n",
    "for i, d in enumerate(unique_days):\n",
    "    d_use = np.isin(dates_list, d)\n",
    "    d_times = np.array(times_list)[d_use]\n",
    "    # d_flux = flux[d_use]"
   ],
   "metadata": {
    "collapsed": false,
    "pycharm": {
     "name": "#%%\n"
    }
   }
  },
  {
   "cell_type": "code",
   "execution_count": null,
   "outputs": [],
   "source": [
    "d_use = np.isin(dates_list, d)\n",
    "d_times = np.array(times_list)[d_use]\n",
    "\n",
    "times = pd.date_range(start=d, end=d + timedelta(days=1), freq='1S', tz=loc.tz)\n",
    "mod_times = []\n",
    "for d in times:\n",
    "    mod_times.append(d.time())\n"
   ],
   "metadata": {
    "collapsed": false,
    "pycharm": {
     "name": "#%%\n"
    }
   }
  },
  {
   "cell_type": "code",
   "execution_count": null,
   "outputs": [],
   "source": [
    "print(len(d_times))\n",
    "print(len(mod_times))"
   ],
   "metadata": {
    "collapsed": false,
    "pycharm": {
     "name": "#%%\n"
    }
   }
  },
  {
   "cell_type": "code",
   "execution_count": null,
   "outputs": [],
   "source": [
    "times_comp = np.array(mod_times)\n",
    "t_use = np.logical_and(d_times > time(hour=9, minute=30), d_times < time(hour=15, minute=30))\n",
    "mod_use = np.logical_and(times_comp >= time(hour=9, minute=30), times_comp < time(hour=15, minute=30))\n"
   ],
   "metadata": {
    "collapsed": false,
    "pycharm": {
     "name": "#%%\n"
    }
   }
  },
  {
   "cell_type": "code",
   "execution_count": null,
   "outputs": [],
   "source": [],
   "metadata": {
    "collapsed": false,
    "pycharm": {
     "name": "#%%\n"
    }
   }
  }
 ],
 "metadata": {
  "kernelspec": {
   "display_name": "Python 3",
   "language": "python",
   "name": "python3"
  },
  "language_info": {
   "codemirror_mode": {
    "name": "ipython",
    "version": 2
   },
   "file_extension": ".py",
   "mimetype": "text/x-python",
   "name": "python",
   "nbconvert_exporter": "python",
   "pygments_lexer": "ipython2",
   "version": "2.7.6"
  }
 },
 "nbformat": 4,
 "nbformat_minor": 0
}